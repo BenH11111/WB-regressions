{
 "cells": [
  {
   "cell_type": "code",
   "execution_count": 2,
   "metadata": {},
   "outputs": [],
   "source": [
    "import pyreadstat\n",
    "import pandas\n",
    "import numexpr\n",
    "\n",
    "df, meta = pyreadstat.read_sav(\"afrobarometer-data.sav\")"
   ]
  },
  {
   "cell_type": "code",
   "execution_count": 3,
   "metadata": {},
   "outputs": [
    {
     "data": {
      "text/plain": [
       "<bound method NDFrame.head of         RESPNO  COUNTRY  COUNTRY.old.spelling  COUNTRY_R7List  COUNTRY_R6List  \\\n",
       "0      ANG0001      2.0                   2.0            36.0            38.0   \n",
       "1      ANG0002      2.0                   2.0            36.0            38.0   \n",
       "2      ANG0003      2.0                   2.0            36.0            38.0   \n",
       "3      ANG0004      2.0                   2.0            36.0            38.0   \n",
       "4      ANG0005      2.0                   2.0            36.0            38.0   \n",
       "...        ...      ...                   ...             ...             ...   \n",
       "48079  ZIM1196     37.0                  37.0            34.0            36.0   \n",
       "48080  ZIM1197     37.0                  37.0            34.0            36.0   \n",
       "48081  ZIM1198     37.0                  37.0            34.0            36.0   \n",
       "48082  ZIM1199     37.0                  37.0            34.0            36.0   \n",
       "48083  ZIM1200     37.0                  37.0            34.0            36.0   \n",
       "\n",
       "       COUNTRY_R5List  URBRUR  URBRUR_COND  REGION  EA_SVC_A  ...  R7.R8.only  \\\n",
       "0                39.0     1.0          1.0  1790.0       1.0  ...         0.0   \n",
       "1                39.0     1.0          1.0  1790.0       1.0  ...         0.0   \n",
       "2                39.0     1.0          1.0  1790.0       1.0  ...         0.0   \n",
       "3                39.0     1.0          1.0  1790.0       1.0  ...         0.0   \n",
       "4                39.0     1.0          1.0  1790.0       1.0  ...         0.0   \n",
       "...               ...     ...          ...     ...       ...  ...         ...   \n",
       "48079            35.0     2.0          2.0   869.0       0.0  ...         1.0   \n",
       "48080            35.0     2.0          2.0   869.0       0.0  ...         1.0   \n",
       "48081            35.0     2.0          2.0   869.0       0.0  ...         1.0   \n",
       "48082            35.0     2.0          2.0   869.0       0.0  ...         1.0   \n",
       "48083            35.0     2.0          2.0   869.0       0.0  ...         1.0   \n",
       "\n",
       "       R8part  AGE_v1  AGE_v1.1  AGE_v2_UN  AGE_v2.1_UN  AGE_v3_AU  AGE_v4  \\\n",
       "0         1.0     2.0       2.0        3.0          3.0        1.0     2.0   \n",
       "1         1.0     2.0       2.0        2.0          2.0        1.0     1.0   \n",
       "2         1.0     1.0       1.0        2.0          2.0        1.0     1.0   \n",
       "3         1.0     1.0       1.0        1.0          1.0        1.0     1.0   \n",
       "4         1.0     1.0       1.0        1.0          1.0        1.0     1.0   \n",
       "...       ...     ...       ...        ...          ...        ...     ...   \n",
       "48079     2.0     1.0       1.0        1.0          1.0        1.0     1.0   \n",
       "48080     2.0     3.0       3.0        3.0          3.0        2.0     2.0   \n",
       "48081     2.0     2.0       2.0        2.0          2.0        1.0     1.0   \n",
       "48082     2.0     6.0       5.0        6.0          5.0        4.0     5.0   \n",
       "48083     2.0     3.0       3.0        3.0          3.0        2.0     2.0   \n",
       "\n",
       "       AGE_v5  AGE_v6  \n",
       "0         2.0     1.0  \n",
       "1         1.0     1.0  \n",
       "2         1.0     1.0  \n",
       "3         1.0     1.0  \n",
       "4         1.0     1.0  \n",
       "...       ...     ...  \n",
       "48079     1.0     1.0  \n",
       "48080     2.0     2.0  \n",
       "48081     1.0     1.0  \n",
       "48082     4.0     3.0  \n",
       "48083     2.0     2.0  \n",
       "\n",
       "[48084 rows x 425 columns]>"
      ]
     },
     "execution_count": 3,
     "metadata": {},
     "output_type": "execute_result"
    }
   ],
   "source": [
    "df.head"
   ]
  },
  {
   "cell_type": "code",
   "execution_count": 4,
   "metadata": {},
   "outputs": [
    {
     "data": {
      "text/plain": [
       "<bound method NDFrame.describe of         RESPNO  COUNTRY  COUNTRY.old.spelling  COUNTRY_R7List  COUNTRY_R6List  \\\n",
       "0      ANG0001      2.0                   2.0            36.0            38.0   \n",
       "1      ANG0002      2.0                   2.0            36.0            38.0   \n",
       "2      ANG0003      2.0                   2.0            36.0            38.0   \n",
       "3      ANG0004      2.0                   2.0            36.0            38.0   \n",
       "4      ANG0005      2.0                   2.0            36.0            38.0   \n",
       "...        ...      ...                   ...             ...             ...   \n",
       "48079  ZIM1196     37.0                  37.0            34.0            36.0   \n",
       "48080  ZIM1197     37.0                  37.0            34.0            36.0   \n",
       "48081  ZIM1198     37.0                  37.0            34.0            36.0   \n",
       "48082  ZIM1199     37.0                  37.0            34.0            36.0   \n",
       "48083  ZIM1200     37.0                  37.0            34.0            36.0   \n",
       "\n",
       "       COUNTRY_R5List  URBRUR  URBRUR_COND  REGION  EA_SVC_A  ...  R7.R8.only  \\\n",
       "0                39.0     1.0          1.0  1790.0       1.0  ...         0.0   \n",
       "1                39.0     1.0          1.0  1790.0       1.0  ...         0.0   \n",
       "2                39.0     1.0          1.0  1790.0       1.0  ...         0.0   \n",
       "3                39.0     1.0          1.0  1790.0       1.0  ...         0.0   \n",
       "4                39.0     1.0          1.0  1790.0       1.0  ...         0.0   \n",
       "...               ...     ...          ...     ...       ...  ...         ...   \n",
       "48079            35.0     2.0          2.0   869.0       0.0  ...         1.0   \n",
       "48080            35.0     2.0          2.0   869.0       0.0  ...         1.0   \n",
       "48081            35.0     2.0          2.0   869.0       0.0  ...         1.0   \n",
       "48082            35.0     2.0          2.0   869.0       0.0  ...         1.0   \n",
       "48083            35.0     2.0          2.0   869.0       0.0  ...         1.0   \n",
       "\n",
       "       R8part  AGE_v1  AGE_v1.1  AGE_v2_UN  AGE_v2.1_UN  AGE_v3_AU  AGE_v4  \\\n",
       "0         1.0     2.0       2.0        3.0          3.0        1.0     2.0   \n",
       "1         1.0     2.0       2.0        2.0          2.0        1.0     1.0   \n",
       "2         1.0     1.0       1.0        2.0          2.0        1.0     1.0   \n",
       "3         1.0     1.0       1.0        1.0          1.0        1.0     1.0   \n",
       "4         1.0     1.0       1.0        1.0          1.0        1.0     1.0   \n",
       "...       ...     ...       ...        ...          ...        ...     ...   \n",
       "48079     2.0     1.0       1.0        1.0          1.0        1.0     1.0   \n",
       "48080     2.0     3.0       3.0        3.0          3.0        2.0     2.0   \n",
       "48081     2.0     2.0       2.0        2.0          2.0        1.0     1.0   \n",
       "48082     2.0     6.0       5.0        6.0          5.0        4.0     5.0   \n",
       "48083     2.0     3.0       3.0        3.0          3.0        2.0     2.0   \n",
       "\n",
       "       AGE_v5  AGE_v6  \n",
       "0         2.0     1.0  \n",
       "1         1.0     1.0  \n",
       "2         1.0     1.0  \n",
       "3         1.0     1.0  \n",
       "4         1.0     1.0  \n",
       "...       ...     ...  \n",
       "48079     1.0     1.0  \n",
       "48080     2.0     2.0  \n",
       "48081     1.0     1.0  \n",
       "48082     4.0     3.0  \n",
       "48083     2.0     2.0  \n",
       "\n",
       "[48084 rows x 425 columns]>"
      ]
     },
     "execution_count": 4,
     "metadata": {},
     "output_type": "execute_result"
    }
   ],
   "source": [
    "df.describe"
   ]
  },
  {
   "cell_type": "code",
   "execution_count": 11,
   "metadata": {},
   "outputs": [
    {
     "data": {
      "text/plain": [
       "<AxesSubplot:>"
      ]
     },
     "execution_count": 11,
     "metadata": {},
     "output_type": "execute_result"
    },
    {
     "data": {
      "image/png": "[encoded data removed]",
      "text/plain": [
       "<Figure size 432x288 with 1 Axes>"
      ]
     },
     "metadata": {
      "needs_background": "light"
     },
     "output_type": "display_data"
    }
   ],
   "source": [
    "df['Q8A'].hist()"
   ]
  },
  {
   "cell_type": "code",
   "execution_count": 13,
   "metadata": {},
   "outputs": [
    {
     "data": {
      "text/plain": [
       "<AxesSubplot:xlabel='COUNTRY', ylabel='Q8A'>"
      ]
     },
     "execution_count": 13,
     "metadata": {},
     "output_type": "execute_result"
    },
    {
     "data": {
      "image/png": "[encoded data removed]",
      "text/plain": [
       "<Figure size 432x288 with 1 Axes>"
      ]
     },
     "metadata": {
      "needs_background": "light"
     },
     "output_type": "display_data"
    }
   ],
   "source": [
    "df.plot(kind='scatter', x='COUNTRY', y='Q8A')"
   ]
  }
 ],
 "metadata": {
  "kernelspec": {
   "display_name": "Python 3",
   "language": "python",
   "name": "python3"
  },
  "language_info": {
   "codemirror_mode": {
    "name": "ipython",
    "version": 3
   },
   "file_extension": ".py",
   "mimetype": "text/x-python",
   "name": "python",
   "nbconvert_exporter": "python",
   "pygments_lexer": "ipython3",
   "version": "3.8.5"
  }
 },
 "nbformat": 4,
 "nbformat_minor": 4
}
