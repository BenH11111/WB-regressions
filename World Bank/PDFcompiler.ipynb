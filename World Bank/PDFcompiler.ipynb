{
 "cells": [
  {
   "cell_type": "code",
   "execution_count": 1,
   "metadata": {
    "scrolled": true
   },
   "outputs": [
    {
     "name": "stdout",
     "output_type": "stream",
     "text": [
      "Collecting pdfplumber\n",
      "  Using cached pdfplumber-0.11.4-py3-none-any.whl (59 kB)\n",
      "Collecting pdfminer.six==20231228\n",
      "  Using cached pdfminer.six-20231228-py3-none-any.whl (5.6 MB)\n",
      "Collecting Pillow>=9.1\n",
      "  Using cached pillow-10.4.0-cp38-cp38-macosx_10_10_x86_64.whl (3.5 MB)\n",
      "Collecting pypdfium2>=4.18.0\n",
      "  Using cached pypdfium2-4.30.0-py3-none-macosx_10_13_x86_64.whl (2.8 MB)\n",
      "Collecting cryptography>=36.0.0\n",
      "  Using cached cryptography-43.0.1.tar.gz (686 kB)\n",
      "  Installing build dependencies ... \u001b[?25ldone\n",
      "\u001b[?25h  Getting requirements to build wheel ... \u001b[?25ldone\n",
      "\u001b[?25h    Preparing wheel metadata ... \u001b[?25ldone\n",
      "\u001b[?25hCollecting charset-normalizer>=2.0.0\n",
      "  Using cached charset_normalizer-3.3.2-cp38-cp38-macosx_10_9_x86_64.whl (121 kB)\n",
      "Requirement already satisfied: cffi>=1.12; platform_python_implementation != \"PyPy\" in /Users/swire/opt/anaconda3/lib/python3.8/site-packages (from cryptography>=36.0.0->pdfminer.six==20231228->pdfplumber) (1.14.3)\n",
      "Requirement already satisfied: pycparser in /Users/swire/opt/anaconda3/lib/python3.8/site-packages (from cffi>=1.12; platform_python_implementation != \"PyPy\"->cryptography>=36.0.0->pdfminer.six==20231228->pdfplumber) (2.20)\n",
      "Building wheels for collected packages: cryptography\n",
      "  Building wheel for cryptography (PEP 517) ... \u001b[?25lerror\n",
      "\u001b[31m  ERROR: Command errored out with exit status 1:\n",
      "   command: /Users/swire/opt/anaconda3/bin/python /Users/swire/opt/anaconda3/lib/python3.8/site-packages/pip/_vendor/pep517/_in_process.py build_wheel /var/folders/42/whrl48gs32qdvwfdt_2k65dh0000gn/T/tmponjsesp3\n",
      "       cwd: /private/var/folders/42/whrl48gs32qdvwfdt_2k65dh0000gn/T/pip-install-lui43de6/cryptography\n",
      "  Complete output (36 lines):\n",
      "  Running `maturin pep517 build-wheel -i /Users/swire/opt/anaconda3/bin/python --compatibility off`\n",
      "  📦 Including license file \"/private/var/folders/42/whrl48gs32qdvwfdt_2k65dh0000gn/T/pip-install-lui43de6/cryptography/LICENSE\"\n",
      "  📦 Including license file \"/private/var/folders/42/whrl48gs32qdvwfdt_2k65dh0000gn/T/pip-install-lui43de6/cryptography/LICENSE.APACHE\"\n",
      "  📦 Including license file \"/private/var/folders/42/whrl48gs32qdvwfdt_2k65dh0000gn/T/pip-install-lui43de6/cryptography/LICENSE.BSD\"\n",
      "  🍹 Building a mixed python/rust project\n",
      "  🔗 Found pyo3 bindings with abi3 support for Python ≥ 3.7\n",
      "  🐍 Not using a specific python interpreter\n",
      "  📡 Using build options features, locked from pyproject.toml\n",
      "  💻 Using `MACOSX_DEPLOYMENT_TARGET=10.12` for x86_64-apple-darwin by default\n",
      "     Compiling proc-macro2 v1.0.86\n",
      "     Compiling target-lexicon v0.12.15\n",
      "     Compiling unicode-ident v1.0.12\n",
      "     Compiling cc v1.1.6\n",
      "     Compiling vcpkg v0.2.15\n",
      "     Compiling once_cell v1.19.0\n",
      "     Compiling pkg-config v0.3.30\n",
      "     Compiling libc v0.2.155\n",
      "  error[E0463]: can't find crate for `std`\n",
      "    |\n",
      "    = note: the `x86_64-apple-darwin` target may not be installed\n",
      "    = help: consider downloading the target with `rustup target add x86_64-apple-darwin`\n",
      "  \n",
      "     Compiling cfg-if v1.0.0\n",
      "  For more information about this error, try `rustc --explain E0463`.\n",
      "  error: could not compile `once_cell` (lib) due to 1 previous error\n",
      "  warning: build failed, waiting for other jobs to finish...\n",
      "  error[E0463]: can't find crate for `core`\n",
      "    |\n",
      "    = note: the `x86_64-apple-darwin` target may not be installed\n",
      "    = help: consider downloading the target with `rustup target add x86_64-apple-darwin`\n",
      "  \n",
      "  error: could not compile `cfg-if` (lib) due to 1 previous error\n",
      "  💥 maturin failed\n",
      "    Caused by: Failed to build a native library through cargo\n",
      "    Caused by: Cargo build finished with \"exit status: 101\": `env -u CARGO MACOSX_DEPLOYMENT_TARGET=\"10.12\" PYO3_ENVIRONMENT_SIGNATURE=\"cpython-3.8-64bit\" PYO3_PYTHON=\"/Users/swire/opt/anaconda3/bin/python\" PYTHON_SYS_EXECUTABLE=\"/Users/swire/opt/anaconda3/bin/python\" \"cargo\" \"rustc\" \"--features\" \"pyo3/abi3-py37\" \"--target\" \"x86_64-apple-darwin\" \"--message-format\" \"json-render-diagnostics\" \"--locked\" \"--manifest-path\" \"/private/var/folders/42/whrl48gs32qdvwfdt_2k65dh0000gn/T/pip-install-lui43de6/cryptography/src/rust/Cargo.toml\" \"--release\" \"--lib\" \"--\" \"-C\" \"link-arg=-undefined\" \"-C\" \"link-arg=dynamic_lookup\" \"-C\" \"link-args=-Wl,-install_name,@rpath/cryptography.hazmat.bindings._rust.abi3.so\"`\n",
      "  Error: command ['maturin', 'pep517', 'build-wheel', '-i', '/Users/swire/opt/anaconda3/bin/python', '--compatibility', 'off'] returned non-zero exit status 1\n",
      "  ----------------------------------------\u001b[0m\n",
      "\u001b[31m  ERROR: Failed building wheel for cryptography\u001b[0m\n",
      "\u001b[?25hFailed to build cryptography\n",
      "\u001b[31mERROR: Could not build wheels for cryptography which use PEP 517 and cannot be installed directly\u001b[0m\n",
      "Note: you may need to restart the kernel to use updated packages.\n"
     ]
    }
   ],
   "source": [
    "pip install pdfplumber"
   ]
  },
  {
   "cell_type": "code",
   "execution_count": null,
   "metadata": {},
   "outputs": [],
   "source": [
    "pip install ru"
   ]
  },
  {
   "cell_type": "code",
   "execution_count": 9,
   "metadata": {},
   "outputs": [
    {
     "ename": "SyntaxError",
     "evalue": "invalid syntax (<ipython-input-9-47695236258f>, line 1)",
     "output_type": "error",
     "traceback": [
      "\u001b[0;36m  File \u001b[0;32m\"<ipython-input-9-47695236258f>\"\u001b[0;36m, line \u001b[0;32m1\u001b[0m\n\u001b[0;31m    rustup target add x86_64-apple-darwin\u001b[0m\n\u001b[0m           ^\u001b[0m\n\u001b[0;31mSyntaxError\u001b[0m\u001b[0;31m:\u001b[0m invalid syntax\n"
     ]
    }
   ],
   "source": [
    "rustup target add x86_64-apple-darwin"
   ]
  },
  {
   "cell_type": "code",
   "execution_count": 7,
   "metadata": {
    "scrolled": true
   },
   "outputs": [
    {
     "ename": "ModuleNotFoundError",
     "evalue": "No module named 'pdfplumber'",
     "output_type": "error",
     "traceback": [
      "\u001b[0;31m---------------------------------------------------------------------------\u001b[0m",
      "\u001b[0;31mModuleNotFoundError\u001b[0m                       Traceback (most recent call last)",
      "\u001b[0;32m<ipython-input-7-e9a4ead28637>\u001b[0m in \u001b[0;36m<module>\u001b[0;34m\u001b[0m\n\u001b[0;32m----> 1\u001b[0;31m \u001b[0;32mimport\u001b[0m \u001b[0mpdfplumber\u001b[0m\u001b[0;34m\u001b[0m\u001b[0;34m\u001b[0m\u001b[0m\n\u001b[0m\u001b[1;32m      2\u001b[0m \u001b[0;32mimport\u001b[0m \u001b[0mpandas\u001b[0m \u001b[0;32mas\u001b[0m \u001b[0mpd\u001b[0m\u001b[0;34m\u001b[0m\u001b[0;34m\u001b[0m\u001b[0m\n",
      "\u001b[0;31mModuleNotFoundError\u001b[0m: No module named 'pdfplumber'"
     ]
    }
   ],
   "source": [
    "import pdfplumber\n",
    "import pandas as pd\n"
   ]
  },
  {
   "cell_type": "code",
   "execution_count": null,
   "metadata": {},
   "outputs": [],
   "source": [
    "\n",
    "# Load the PDF file\n",
    "pdf_path = 'Codebook.pdf'  # Replace with the path to your PDF\n",
    "\n",
    "# Initialize an empty list to store table rows\n",
    "table_data = []\n",
    "\n",
    "with pdfplumber.open(pdf_path) as pdf:\n",
    "    for page in pdf.pages:\n",
    "        text = page.extract_text()\n",
    "        # Split text by lines and extract relevant info\n",
    "        lines = text.split(\"\\n\")\n",
    "        \n",
    "        # Extract data based on patterns observed\n",
    "        for i in range(0, len(lines), 6):  # Adjust based on spacing in your document\n",
    "            question_number = lines[i].split(\":\")[1].strip()\n",
    "            question_text = lines[i+1].strip()\n",
    "            variable_label = lines[i+2].split(\":\")[1].strip()\n",
    "            values = lines[i+3].split(\":\")[1].strip()\n",
    "            value_labels = lines[i+4].split(\":\")[1].strip()\n",
    "            source = lines[i+5].split(\":\")[1].strip()\n",
    "            \n",
    "            # Append a row to table_data\n",
    "            table_data.append([question_number, question_text, variable_label, values, value_labels, source])\n",
    "\n",
    "# Convert the list into a DataFrame\n",
    "df = pd.DataFrame(table_data, columns=[\"Question Number\", \"Question Text\", \"Variable Label\", \"Values\", \"Value Labels\", \"Source\"])\n",
    "\n",
    "# Save to Excel\n",
    "df.to_excel(\"output_table.xlsx\", index=False)\n",
    "\n",
    "print(\"Data extracted and saved to Excel successfully.\")\n"
   ]
  }
 ],
 "metadata": {
  "kernelspec": {
   "display_name": "Python 3",
   "language": "python",
   "name": "python3"
  },
  "language_info": {
   "codemirror_mode": {
    "name": "ipython",
    "version": 3
   },
   "file_extension": ".py",
   "mimetype": "text/x-python",
   "name": "python",
   "nbconvert_exporter": "python",
   "pygments_lexer": "ipython3",
   "version": "3.8.5"
  }
 },
 "nbformat": 4,
 "nbformat_minor": 4
}
